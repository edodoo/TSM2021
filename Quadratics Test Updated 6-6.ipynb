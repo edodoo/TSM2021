{
 "cells": [
  {
   "cell_type": "markdown",
   "id": "collaborative-christmas",
   "metadata": {},
   "source": [
    "# Quadratics using Julia-Jupyter Notebooks"
   ]
  },
  {
   "cell_type": "markdown",
   "id": "covered-syntax",
   "metadata": {},
   "source": [
    "### We will be using the formula *[INSERT FORMULA]* to solve quadratic equations. We will not be manipulating the formula in any way. Instead, you will just need to run the formula's code which can be seen on LINE *[INSERT LINE WHERE FROMULA IS]* below."
   ]
  },
  {
   "cell_type": "code",
   "execution_count": 3,
   "id": "pacific-clinic",
   "metadata": {},
   "outputs": [
    {
     "data": {
      "text/plain": [
       "solvequadratic (generic function with 1 method)"
      ]
     },
     "execution_count": 3,
     "metadata": {},
     "output_type": "execute_result"
    }
   ],
   "source": [
    "## See quadratic formula's code below\n",
    "\n",
    "function solvequadratic(a, b, c)\n",
    "    d = sqrt(b^2 - 4a*c)\n",
    "    (-b - d) / 2a, (-b + d) / 2a\n",
    "end"
   ]
  },
  {
   "cell_type": "code",
   "execution_count": null,
   "id": "acceptable-geneva",
   "metadata": {},
   "outputs": [],
   "source": []
  }
 ],
 "metadata": {
  "kernelspec": {
   "display_name": "Julia 1.6.1",
   "language": "julia",
   "name": "julia-1.6"
  },
  "language_info": {
   "file_extension": ".jl",
   "mimetype": "application/julia",
   "name": "julia",
   "version": "1.6.1"
  }
 },
 "nbformat": 4,
 "nbformat_minor": 5
}
