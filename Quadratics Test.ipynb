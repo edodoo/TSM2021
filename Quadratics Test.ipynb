{
 "cells": [
  {
   "cell_type": "markdown",
   "id": "descending-picture",
   "metadata": {},
   "source": [
    "# Activity: Quadratics Solutions"
   ]
  },
  {
   "cell_type": "markdown",
   "id": "revised-functionality",
   "metadata": {},
   "source": [
    "In this activity,we will solve some equations of the quadratic type *ax² + bx + c* using code that can be implemented in Julia-Jupyter notebooks.\n",
    "\n",
    "Prior to starting, let's make sure your notebook is able to run. Input your name in the line below using the *println()* command."
   ]
  },
  {
   "cell_type": "code",
   "execution_count": null,
   "id": "first-authentication",
   "metadata": {},
   "outputs": [],
   "source": [
    "#=  Insert your name and today's date in this section using println(). \n",
    "When you are finished, press Run.\n",
    "\n",
    "e.g. println(\"Emma - July 19\")\n",
    "=#\n",
    "\n"
   ]
  },
  {
   "cell_type": "markdown",
   "id": "charged-blend",
   "metadata": {},
   "source": [
    "## Using the solvequadratic() Function"
   ]
  },
  {
   "cell_type": "markdown",
   "id": "bound-privilege",
   "metadata": {},
   "source": [
    "Now that your notebook is able to run, we will be looking at the function code solvequadratic() in order to solve some quadratic equations. "
   ]
  },
  {
   "cell_type": "code",
   "execution_count": null,
   "id": "conditional-advertiser",
   "metadata": {},
   "outputs": [],
   "source": [
    "# Run the quadratic function below\n",
    "function solvequadratic(a, b, c)\n",
    "    d = sqrt(b^2 - 4a*c)\n",
    "    (-b - d) / 2a, (-b + d) / 2a\n",
    "end"
   ]
  },
  {
   "cell_type": "markdown",
   "id": "handled-messenger",
   "metadata": {},
   "source": [
    "### Solve for the equation: "
   ]
  },
  {
   "cell_type": "code",
   "execution_count": null,
   "id": "configured-aggregate",
   "metadata": {},
   "outputs": [],
   "source": [
    "# The first has been done for you\n",
    "# Don't forget to click run!\n",
    "\n",
    "solvequadratic(6, 11, -35)\n",
    "\n",
    "#= \n",
    "Coefficents: \n",
    "a = 6, b = 11, and c = -35\n",
    "=#"
   ]
  },
  {
   "cell_type": "markdown",
   "id": "economic-israeli",
   "metadata": {},
   "source": [
    "# Going Beyond\n",
    "Don't forget to click on Run once you have typed in your solutions"
   ]
  },
  {
   "cell_type": "code",
   "execution_count": null,
   "id": "palestinian-stomach",
   "metadata": {},
   "outputs": [],
   "source": [
    "#Equation 1\n"
   ]
  },
  {
   "cell_type": "code",
   "execution_count": null,
   "id": "promising-poverty",
   "metadata": {},
   "outputs": [],
   "source": [
    "#Equation 2\n"
   ]
  },
  {
   "cell_type": "code",
   "execution_count": null,
   "id": "proof-violation",
   "metadata": {},
   "outputs": [],
   "source": [
    "#Equation 3\n"
   ]
  },
  {
   "cell_type": "code",
   "execution_count": null,
   "id": "associate-montgomery",
   "metadata": {},
   "outputs": [],
   "source": [
    "#Equation 4\n"
   ]
  },
  {
   "cell_type": "code",
   "execution_count": null,
   "id": "blessed-prefix",
   "metadata": {},
   "outputs": [],
   "source": [
    "#Equation 5\n"
   ]
  }
 ],
 "metadata": {
  "kernelspec": {
   "display_name": "Julia 1.6.2",
   "language": "julia",
   "name": "julia-1.6"
  },
  "language_info": {
   "file_extension": ".jl",
   "mimetype": "application/julia",
   "name": "julia",
   "version": "1.6.2"
  }
 },
 "nbformat": 4,
 "nbformat_minor": 5
}
